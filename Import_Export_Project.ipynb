{
 "cells": [
  {
   "cell_type": "code",
   "execution_count": 1,
   "id": "49c4e31b",
   "metadata": {},
   "outputs": [],
   "source": [
    "import os\n",
    "import pandas as pd\n",
    "import numpy as np\n",
    "import matplotlib.pyplot as plt\n",
    "%matplotlib inline \n",
    "import seaborn as sns\n",
    "sns.set\n",
    "import warnings\n",
    "warnings.filterwarnings('ignore')"
   ]
  },
  {
   "cell_type": "code",
   "execution_count": 2,
   "id": "8be1ccec",
   "metadata": {},
   "outputs": [
    {
     "data": {
      "text/html": [
       "<div>\n",
       "<style scoped>\n",
       "    .dataframe tbody tr th:only-of-type {\n",
       "        vertical-align: middle;\n",
       "    }\n",
       "\n",
       "    .dataframe tbody tr th {\n",
       "        vertical-align: top;\n",
       "    }\n",
       "\n",
       "    .dataframe thead th {\n",
       "        text-align: right;\n",
       "    }\n",
       "</style>\n",
       "<table border=\"1\" class=\"dataframe\">\n",
       "  <thead>\n",
       "    <tr style=\"text-align: right;\">\n",
       "      <th></th>\n",
       "      <th>Transaction_ID</th>\n",
       "      <th>Country</th>\n",
       "      <th>Product</th>\n",
       "      <th>Import_Export</th>\n",
       "      <th>Shipping_Method</th>\n",
       "      <th>Port</th>\n",
       "      <th>Category</th>\n",
       "      <th>Quantity</th>\n",
       "      <th>Value</th>\n",
       "      <th>Date</th>\n",
       "      <th>Customs_Code</th>\n",
       "      <th>Weight</th>\n",
       "    </tr>\n",
       "  </thead>\n",
       "  <tbody>\n",
       "    <tr>\n",
       "      <th>0</th>\n",
       "      <td>e3e70682-c209-4cac-a29f-6fbed82c07cd</td>\n",
       "      <td>Colombia</td>\n",
       "      <td>describe</td>\n",
       "      <td>Export</td>\n",
       "      <td>Air</td>\n",
       "      <td>Robertbury</td>\n",
       "      <td>Machinery</td>\n",
       "      <td>1979.0</td>\n",
       "      <td>9506.57</td>\n",
       "      <td>7/12/2023</td>\n",
       "      <td>620537</td>\n",
       "      <td>4248.65</td>\n",
       "    </tr>\n",
       "    <tr>\n",
       "      <th>1</th>\n",
       "      <td>f728b4fa-4248-4e3a-8a5d-2f346baa9455</td>\n",
       "      <td>Chile</td>\n",
       "      <td>president</td>\n",
       "      <td>Export</td>\n",
       "      <td>Air</td>\n",
       "      <td>Shahport</td>\n",
       "      <td>Clothing</td>\n",
       "      <td>5763.0</td>\n",
       "      <td>7100.91</td>\n",
       "      <td>4/4/2023</td>\n",
       "      <td>927600</td>\n",
       "      <td>4340.81</td>\n",
       "    </tr>\n",
       "    <tr>\n",
       "      <th>2</th>\n",
       "      <td>f7c1bd87-4da5-4709-9471-3d60c8a70639</td>\n",
       "      <td>Christmas Island</td>\n",
       "      <td>agency</td>\n",
       "      <td>Export</td>\n",
       "      <td>Air</td>\n",
       "      <td>Adamfort</td>\n",
       "      <td>Furniture</td>\n",
       "      <td>NaN</td>\n",
       "      <td>7226.42</td>\n",
       "      <td>9/5/2022</td>\n",
       "      <td>996084</td>\n",
       "      <td>0.00</td>\n",
       "    </tr>\n",
       "    <tr>\n",
       "      <th>3</th>\n",
       "      <td>e443df78-9558-467f-9ba9-1faf7a024204</td>\n",
       "      <td>Finland</td>\n",
       "      <td>policy</td>\n",
       "      <td>Export</td>\n",
       "      <td>Air</td>\n",
       "      <td>Juliebury</td>\n",
       "      <td>Electronics</td>\n",
       "      <td>2622.0</td>\n",
       "      <td>2817.29</td>\n",
       "      <td>3/4/2023</td>\n",
       "      <td>555981</td>\n",
       "      <td>4406.74</td>\n",
       "    </tr>\n",
       "    <tr>\n",
       "      <th>4</th>\n",
       "      <td>23a7711a-8133-4876-b7eb-dcd9e87a1613</td>\n",
       "      <td>New Zealand</td>\n",
       "      <td>positive</td>\n",
       "      <td>Export</td>\n",
       "      <td>Sea</td>\n",
       "      <td>East Randall</td>\n",
       "      <td>Machinery</td>\n",
       "      <td>6975.0</td>\n",
       "      <td>657.80</td>\n",
       "      <td>23-07-2021</td>\n",
       "      <td>741778</td>\n",
       "      <td>1497.16</td>\n",
       "    </tr>\n",
       "  </tbody>\n",
       "</table>\n",
       "</div>"
      ],
      "text/plain": [
       "                         Transaction_ID           Country    Product  \\\n",
       "0  e3e70682-c209-4cac-a29f-6fbed82c07cd          Colombia   describe   \n",
       "1  f728b4fa-4248-4e3a-8a5d-2f346baa9455             Chile  president   \n",
       "2  f7c1bd87-4da5-4709-9471-3d60c8a70639  Christmas Island     agency   \n",
       "3  e443df78-9558-467f-9ba9-1faf7a024204           Finland     policy   \n",
       "4  23a7711a-8133-4876-b7eb-dcd9e87a1613       New Zealand   positive   \n",
       "\n",
       "  Import_Export Shipping_Method          Port     Category  Quantity    Value  \\\n",
       "0        Export             Air    Robertbury    Machinery    1979.0  9506.57   \n",
       "1        Export             Air      Shahport     Clothing    5763.0  7100.91   \n",
       "2        Export             Air      Adamfort    Furniture       NaN  7226.42   \n",
       "3        Export             Air     Juliebury  Electronics    2622.0  2817.29   \n",
       "4        Export             Sea  East Randall    Machinery    6975.0   657.80   \n",
       "\n",
       "         Date  Customs_Code   Weight  \n",
       "0   7/12/2023        620537  4248.65  \n",
       "1    4/4/2023        927600  4340.81  \n",
       "2    9/5/2022        996084     0.00  \n",
       "3    3/4/2023        555981  4406.74  \n",
       "4  23-07-2021        741778  1497.16  "
      ]
     },
     "execution_count": 2,
     "metadata": {},
     "output_type": "execute_result"
    }
   ],
   "source": [
    "df = pd.read_csv(\"Imports_Exports_Dataset.csv\")\n",
    "df.head()"
   ]
  },
  {
   "cell_type": "code",
   "execution_count": 3,
   "id": "03deb401",
   "metadata": {},
   "outputs": [
    {
     "name": "stdout",
     "output_type": "stream",
     "text": [
      "<class 'pandas.core.frame.DataFrame'>\n",
      "RangeIndex: 15000 entries, 0 to 14999\n",
      "Data columns (total 12 columns):\n",
      " #   Column           Non-Null Count  Dtype  \n",
      "---  ------           --------------  -----  \n",
      " 0   Transaction_ID   15000 non-null  object \n",
      " 1   Country          15000 non-null  object \n",
      " 2   Product          15000 non-null  object \n",
      " 3   Import_Export    15000 non-null  object \n",
      " 4   Shipping_Method  15000 non-null  object \n",
      " 5   Port             15000 non-null  object \n",
      " 6   Category         15000 non-null  object \n",
      " 7   Quantity         14993 non-null  float64\n",
      " 8   Value            14993 non-null  float64\n",
      " 9   Date             15000 non-null  object \n",
      " 10  Customs_Code     15000 non-null  int64  \n",
      " 11  Weight           14993 non-null  float64\n",
      "dtypes: float64(3), int64(1), object(8)\n",
      "memory usage: 1.4+ MB\n"
     ]
    }
   ],
   "source": [
    "df.info()"
   ]
  },
  {
   "cell_type": "code",
   "execution_count": 4,
   "id": "926ab1e8",
   "metadata": {},
   "outputs": [
    {
     "name": "stdout",
     "output_type": "stream",
     "text": [
      "Transaction_ID     0\n",
      "Country            0\n",
      "Product            0\n",
      "Import_Export      0\n",
      "Shipping_Method    0\n",
      "Port               0\n",
      "Category           0\n",
      "Quantity           7\n",
      "Value              7\n",
      "Date               0\n",
      "Customs_Code       0\n",
      "Weight             7\n",
      "dtype: int64\n",
      "---------------\n",
      "21\n"
     ]
    }
   ],
   "source": [
    "print(df.isnull().sum())\n",
    "print(\"---------------\")\n",
    "print(df.isnull().sum().sum())"
   ]
  },
  {
   "cell_type": "code",
   "execution_count": 5,
   "id": "4ddc320a",
   "metadata": {},
   "outputs": [
    {
     "data": {
      "text/plain": [
       "Transaction_ID     0\n",
       "Country            0\n",
       "Product            0\n",
       "Import_Export      0\n",
       "Shipping_Method    0\n",
       "Port               0\n",
       "Category           0\n",
       "Quantity           7\n",
       "Value              7\n",
       "Date               0\n",
       "Customs_Code       0\n",
       "Weight             7\n",
       "dtype: int64"
      ]
     },
     "execution_count": 5,
     "metadata": {},
     "output_type": "execute_result"
    }
   ],
   "source": [
    "df.isna().sum()"
   ]
  },
  {
   "cell_type": "code",
   "execution_count": 6,
   "id": "aa503d8d",
   "metadata": {},
   "outputs": [
    {
     "data": {
      "text/html": [
       "<div>\n",
       "<style scoped>\n",
       "    .dataframe tbody tr th:only-of-type {\n",
       "        vertical-align: middle;\n",
       "    }\n",
       "\n",
       "    .dataframe tbody tr th {\n",
       "        vertical-align: top;\n",
       "    }\n",
       "\n",
       "    .dataframe thead th {\n",
       "        text-align: right;\n",
       "    }\n",
       "</style>\n",
       "<table border=\"1\" class=\"dataframe\">\n",
       "  <thead>\n",
       "    <tr style=\"text-align: right;\">\n",
       "      <th></th>\n",
       "      <th>Quantity</th>\n",
       "      <th>Value</th>\n",
       "      <th>Customs_Code</th>\n",
       "      <th>Weight</th>\n",
       "    </tr>\n",
       "  </thead>\n",
       "  <tbody>\n",
       "    <tr>\n",
       "      <th>count</th>\n",
       "      <td>14993.000000</td>\n",
       "      <td>14993.000000</td>\n",
       "      <td>15000.00000</td>\n",
       "      <td>14993.000000</td>\n",
       "    </tr>\n",
       "    <tr>\n",
       "      <th>mean</th>\n",
       "      <td>4981.713666</td>\n",
       "      <td>5032.743110</td>\n",
       "      <td>549507.95920</td>\n",
       "      <td>2491.758419</td>\n",
       "    </tr>\n",
       "    <tr>\n",
       "      <th>std</th>\n",
       "      <td>2866.023597</td>\n",
       "      <td>2857.714215</td>\n",
       "      <td>260886.91886</td>\n",
       "      <td>1451.623798</td>\n",
       "    </tr>\n",
       "    <tr>\n",
       "      <th>min</th>\n",
       "      <td>1.000000</td>\n",
       "      <td>102.120000</td>\n",
       "      <td>100041.00000</td>\n",
       "      <td>0.000000</td>\n",
       "    </tr>\n",
       "    <tr>\n",
       "      <th>25%</th>\n",
       "      <td>2518.000000</td>\n",
       "      <td>2552.030000</td>\n",
       "      <td>325635.50000</td>\n",
       "      <td>1242.810000</td>\n",
       "    </tr>\n",
       "    <tr>\n",
       "      <th>50%</th>\n",
       "      <td>4960.000000</td>\n",
       "      <td>5044.710000</td>\n",
       "      <td>545432.00000</td>\n",
       "      <td>2476.440000</td>\n",
       "    </tr>\n",
       "    <tr>\n",
       "      <th>75%</th>\n",
       "      <td>7459.000000</td>\n",
       "      <td>7505.180000</td>\n",
       "      <td>777988.00000</td>\n",
       "      <td>3746.900000</td>\n",
       "    </tr>\n",
       "    <tr>\n",
       "      <th>max</th>\n",
       "      <td>10000.000000</td>\n",
       "      <td>9999.130000</td>\n",
       "      <td>999964.00000</td>\n",
       "      <td>4999.930000</td>\n",
       "    </tr>\n",
       "  </tbody>\n",
       "</table>\n",
       "</div>"
      ],
      "text/plain": [
       "           Quantity         Value  Customs_Code        Weight\n",
       "count  14993.000000  14993.000000   15000.00000  14993.000000\n",
       "mean    4981.713666   5032.743110  549507.95920   2491.758419\n",
       "std     2866.023597   2857.714215  260886.91886   1451.623798\n",
       "min        1.000000    102.120000  100041.00000      0.000000\n",
       "25%     2518.000000   2552.030000  325635.50000   1242.810000\n",
       "50%     4960.000000   5044.710000  545432.00000   2476.440000\n",
       "75%     7459.000000   7505.180000  777988.00000   3746.900000\n",
       "max    10000.000000   9999.130000  999964.00000   4999.930000"
      ]
     },
     "execution_count": 6,
     "metadata": {},
     "output_type": "execute_result"
    }
   ],
   "source": [
    "df.describe()"
   ]
  },
  {
   "cell_type": "code",
   "execution_count": 7,
   "id": "5b828925",
   "metadata": {},
   "outputs": [
    {
     "data": {
      "text/html": [
       "<div>\n",
       "<style scoped>\n",
       "    .dataframe tbody tr th:only-of-type {\n",
       "        vertical-align: middle;\n",
       "    }\n",
       "\n",
       "    .dataframe tbody tr th {\n",
       "        vertical-align: top;\n",
       "    }\n",
       "\n",
       "    .dataframe thead th {\n",
       "        text-align: right;\n",
       "    }\n",
       "</style>\n",
       "<table border=\"1\" class=\"dataframe\">\n",
       "  <thead>\n",
       "    <tr style=\"text-align: right;\">\n",
       "      <th></th>\n",
       "      <th>Transaction_ID</th>\n",
       "      <th>Country</th>\n",
       "      <th>Product</th>\n",
       "      <th>Import_Export</th>\n",
       "      <th>Shipping_Method</th>\n",
       "      <th>Port</th>\n",
       "      <th>Category</th>\n",
       "      <th>Quantity</th>\n",
       "      <th>Value</th>\n",
       "      <th>Date</th>\n",
       "      <th>Customs_Code</th>\n",
       "      <th>Weight</th>\n",
       "    </tr>\n",
       "  </thead>\n",
       "  <tbody>\n",
       "    <tr>\n",
       "      <th>0</th>\n",
       "      <td>e3e70682-c209-4cac-a29f-6fbed82c07cd</td>\n",
       "      <td>Colombia</td>\n",
       "      <td>describe</td>\n",
       "      <td>Export</td>\n",
       "      <td>Air</td>\n",
       "      <td>Robertbury</td>\n",
       "      <td>Machinery</td>\n",
       "      <td>1979.0</td>\n",
       "      <td>9506.57</td>\n",
       "      <td>7/12/2023</td>\n",
       "      <td>620537</td>\n",
       "      <td>4248.65</td>\n",
       "    </tr>\n",
       "    <tr>\n",
       "      <th>1</th>\n",
       "      <td>f728b4fa-4248-4e3a-8a5d-2f346baa9455</td>\n",
       "      <td>Chile</td>\n",
       "      <td>president</td>\n",
       "      <td>Export</td>\n",
       "      <td>Air</td>\n",
       "      <td>Shahport</td>\n",
       "      <td>Clothing</td>\n",
       "      <td>5763.0</td>\n",
       "      <td>7100.91</td>\n",
       "      <td>4/4/2023</td>\n",
       "      <td>927600</td>\n",
       "      <td>4340.81</td>\n",
       "    </tr>\n",
       "    <tr>\n",
       "      <th>2</th>\n",
       "      <td>f7c1bd87-4da5-4709-9471-3d60c8a70639</td>\n",
       "      <td>Christmas Island</td>\n",
       "      <td>agency</td>\n",
       "      <td>Export</td>\n",
       "      <td>Air</td>\n",
       "      <td>Adamfort</td>\n",
       "      <td>Furniture</td>\n",
       "      <td>NaN</td>\n",
       "      <td>7226.42</td>\n",
       "      <td>9/5/2022</td>\n",
       "      <td>996084</td>\n",
       "      <td>0.00</td>\n",
       "    </tr>\n",
       "    <tr>\n",
       "      <th>3</th>\n",
       "      <td>e443df78-9558-467f-9ba9-1faf7a024204</td>\n",
       "      <td>Finland</td>\n",
       "      <td>policy</td>\n",
       "      <td>Export</td>\n",
       "      <td>Air</td>\n",
       "      <td>Juliebury</td>\n",
       "      <td>Electronics</td>\n",
       "      <td>2622.0</td>\n",
       "      <td>2817.29</td>\n",
       "      <td>3/4/2023</td>\n",
       "      <td>555981</td>\n",
       "      <td>4406.74</td>\n",
       "    </tr>\n",
       "    <tr>\n",
       "      <th>4</th>\n",
       "      <td>23a7711a-8133-4876-b7eb-dcd9e87a1613</td>\n",
       "      <td>New Zealand</td>\n",
       "      <td>positive</td>\n",
       "      <td>Export</td>\n",
       "      <td>Sea</td>\n",
       "      <td>East Randall</td>\n",
       "      <td>Machinery</td>\n",
       "      <td>6975.0</td>\n",
       "      <td>657.80</td>\n",
       "      <td>23-07-2021</td>\n",
       "      <td>741778</td>\n",
       "      <td>1497.16</td>\n",
       "    </tr>\n",
       "  </tbody>\n",
       "</table>\n",
       "</div>"
      ],
      "text/plain": [
       "                         Transaction_ID           Country    Product  \\\n",
       "0  e3e70682-c209-4cac-a29f-6fbed82c07cd          Colombia   describe   \n",
       "1  f728b4fa-4248-4e3a-8a5d-2f346baa9455             Chile  president   \n",
       "2  f7c1bd87-4da5-4709-9471-3d60c8a70639  Christmas Island     agency   \n",
       "3  e443df78-9558-467f-9ba9-1faf7a024204           Finland     policy   \n",
       "4  23a7711a-8133-4876-b7eb-dcd9e87a1613       New Zealand   positive   \n",
       "\n",
       "  Import_Export Shipping_Method          Port     Category  Quantity    Value  \\\n",
       "0        Export             Air    Robertbury    Machinery    1979.0  9506.57   \n",
       "1        Export             Air      Shahport     Clothing    5763.0  7100.91   \n",
       "2        Export             Air      Adamfort    Furniture       NaN  7226.42   \n",
       "3        Export             Air     Juliebury  Electronics    2622.0  2817.29   \n",
       "4        Export             Sea  East Randall    Machinery    6975.0   657.80   \n",
       "\n",
       "         Date Customs_Code   Weight  \n",
       "0   7/12/2023       620537  4248.65  \n",
       "1    4/4/2023       927600  4340.81  \n",
       "2    9/5/2022       996084     0.00  \n",
       "3    3/4/2023       555981  4406.74  \n",
       "4  23-07-2021       741778  1497.16  "
      ]
     },
     "execution_count": 7,
     "metadata": {},
     "output_type": "execute_result"
    }
   ],
   "source": [
    "df[\"Customs_Code\"] = df[\"Customs_Code\"].astype(object)\n",
    "df.head()"
   ]
  },
  {
   "cell_type": "code",
   "execution_count": 8,
   "id": "7aafc08a",
   "metadata": {},
   "outputs": [
    {
     "name": "stdout",
     "output_type": "stream",
     "text": [
      "<class 'pandas.core.frame.DataFrame'>\n",
      "RangeIndex: 15000 entries, 0 to 14999\n",
      "Data columns (total 12 columns):\n",
      " #   Column           Non-Null Count  Dtype  \n",
      "---  ------           --------------  -----  \n",
      " 0   Transaction_ID   15000 non-null  object \n",
      " 1   Country          15000 non-null  object \n",
      " 2   Product          15000 non-null  object \n",
      " 3   Import_Export    15000 non-null  object \n",
      " 4   Shipping_Method  15000 non-null  object \n",
      " 5   Port             15000 non-null  object \n",
      " 6   Category         15000 non-null  object \n",
      " 7   Quantity         14993 non-null  float64\n",
      " 8   Value            14993 non-null  float64\n",
      " 9   Date             15000 non-null  object \n",
      " 10  Customs_Code     15000 non-null  object \n",
      " 11  Weight           14993 non-null  float64\n",
      "dtypes: float64(3), object(9)\n",
      "memory usage: 1.4+ MB\n"
     ]
    }
   ],
   "source": [
    "df.info()"
   ]
  },
  {
   "cell_type": "code",
   "execution_count": 9,
   "id": "e1a1dd92",
   "metadata": {},
   "outputs": [
    {
     "name": "stdout",
     "output_type": "stream",
     "text": [
      "NUM_COL: ['Quantity', 'Value', 'Weight']\n",
      "==============================================\n",
      "CAT_COL: ['Transaction_ID', 'Country', 'Product', 'Import_Export', 'Shipping_Method', 'Port', 'Category', 'Date', 'Customs_Code']\n"
     ]
    }
   ],
   "source": [
    "num_col = []\n",
    "cat_col = []\n",
    "for i in df.columns:\n",
    "    if df[i].dtypes == 'int64' or df[i].dtypes == 'float64':\n",
    "        num_col.append(i)\n",
    "    else:\n",
    "        cat_col.append(i)\n",
    "print('NUM_COL:',num_col)\n",
    "print('==============================================')\n",
    "print('CAT_COL:',cat_col)"
   ]
  },
  {
   "cell_type": "code",
   "execution_count": 10,
   "id": "a66cf6f2",
   "metadata": {},
   "outputs": [
    {
     "data": {
      "image/png": "[encoded data removed]",
      "text/plain": [
       "<Figure size 500x500 with 1 Axes>"
      ]
     },
     "metadata": {},
     "output_type": "display_data"
    },
    {
     "data": {
      "image/png": "[encoded data removed]",
      "text/plain": [
       "<Figure size 500x500 with 1 Axes>"
      ]
     },
     "metadata": {},
     "output_type": "display_data"
    },
    {
     "data": {
      "image/png": "[encoded data removed]",
      "text/plain": [
       "<Figure size 500x500 with 1 Axes>"
      ]
     },
     "metadata": {},
     "output_type": "display_data"
    }
   ],
   "source": [
    "def distplots(num_col):\n",
    "    sns.displot(df[num_col], kde=True, palette=True)\n",
    "    plt.show()\n",
    "    \n",
    "for i in list(df.select_dtypes(exclude=['object']).columns)[0:]:\n",
    "    distplots(i)"
   ]
  },
  {
   "cell_type": "code",
   "execution_count": 11,
   "id": "62e27341",
   "metadata": {},
   "outputs": [
    {
     "data": {
      "image/png": "[encoded data removed]",
      "text/plain": [
       "<Figure size 640x480 with 1 Axes>"
      ]
     },
     "metadata": {},
     "output_type": "display_data"
    },
    {
     "data": {
      "image/png": "[encoded data removed]",
      "text/plain": [
       "<Figure size 640x480 with 1 Axes>"
      ]
     },
     "metadata": {},
     "output_type": "display_data"
    },
    {
     "data": {
      "image/png": "[encoded data removed]",
      "text/plain": [
       "<Figure size 640x480 with 1 Axes>"
      ]
     },
     "metadata": {},
     "output_type": "display_data"
    }
   ],
   "source": [
    "def boxplots(num_col):\n",
    "    sns.boxplot(df[num_col])\n",
    "    plt.show()\n",
    "    \n",
    "for i in list(df.select_dtypes(exclude=['object']).columns):\n",
    "    boxplots(i)"
   ]
  },
  {
   "cell_type": "code",
   "execution_count": 12,
   "id": "38b9817d",
   "metadata": {},
   "outputs": [
    {
     "data": {
      "image/png": "[encoded data removed]",
      "text/plain": [
       "<Figure size 800x600 with 2 Axes>"
      ]
     },
     "metadata": {},
     "output_type": "display_data"
    }
   ],
   "source": [
    "plt.figure(figsize=(8,6))\n",
    "sns.heatmap(df[['Quantity','Value','Weight']].isnull(), cmap='rainbow', cbar=True, annot=True, yticklabels=False)\n",
    "plt.show()"
   ]
  },
  {
   "cell_type": "code",
   "execution_count": 13,
   "id": "39df5021",
   "metadata": {},
   "outputs": [
    {
     "data": {
      "text/html": [
       "<div>\n",
       "<style scoped>\n",
       "    .dataframe tbody tr th:only-of-type {\n",
       "        vertical-align: middle;\n",
       "    }\n",
       "\n",
       "    .dataframe tbody tr th {\n",
       "        vertical-align: top;\n",
       "    }\n",
       "\n",
       "    .dataframe thead th {\n",
       "        text-align: right;\n",
       "    }\n",
       "</style>\n",
       "<table border=\"1\" class=\"dataframe\">\n",
       "  <thead>\n",
       "    <tr style=\"text-align: right;\">\n",
       "      <th></th>\n",
       "      <th>Quantity</th>\n",
       "      <th>Value</th>\n",
       "      <th>Weight</th>\n",
       "    </tr>\n",
       "  </thead>\n",
       "  <tbody>\n",
       "    <tr>\n",
       "      <th>0</th>\n",
       "      <td>1979.0</td>\n",
       "      <td>9506.57</td>\n",
       "      <td>4248.65</td>\n",
       "    </tr>\n",
       "    <tr>\n",
       "      <th>1</th>\n",
       "      <td>5763.0</td>\n",
       "      <td>7100.91</td>\n",
       "      <td>4340.81</td>\n",
       "    </tr>\n",
       "    <tr>\n",
       "      <th>2</th>\n",
       "      <td>NaN</td>\n",
       "      <td>7226.42</td>\n",
       "      <td>0.00</td>\n",
       "    </tr>\n",
       "    <tr>\n",
       "      <th>3</th>\n",
       "      <td>2622.0</td>\n",
       "      <td>2817.29</td>\n",
       "      <td>4406.74</td>\n",
       "    </tr>\n",
       "    <tr>\n",
       "      <th>4</th>\n",
       "      <td>6975.0</td>\n",
       "      <td>657.80</td>\n",
       "      <td>1497.16</td>\n",
       "    </tr>\n",
       "  </tbody>\n",
       "</table>\n",
       "</div>"
      ],
      "text/plain": [
       "   Quantity    Value   Weight\n",
       "0    1979.0  9506.57  4248.65\n",
       "1    5763.0  7100.91  4340.81\n",
       "2       NaN  7226.42     0.00\n",
       "3    2622.0  2817.29  4406.74\n",
       "4    6975.0   657.80  1497.16"
      ]
     },
     "execution_count": 13,
     "metadata": {},
     "output_type": "execute_result"
    }
   ],
   "source": [
    "df_new = df[['Quantity','Value','Weight']].copy()\n",
    "df_new.head()"
   ]
  },
  {
   "cell_type": "code",
   "execution_count": 14,
   "id": "af54dac2",
   "metadata": {},
   "outputs": [],
   "source": [
    "from sklearn.impute import KNNImputer"
   ]
  },
  {
   "cell_type": "code",
   "execution_count": 15,
   "id": "dc9b25b3",
   "metadata": {},
   "outputs": [
    {
     "data": {
      "text/html": [
       "<div>\n",
       "<style scoped>\n",
       "    .dataframe tbody tr th:only-of-type {\n",
       "        vertical-align: middle;\n",
       "    }\n",
       "\n",
       "    .dataframe tbody tr th {\n",
       "        vertical-align: top;\n",
       "    }\n",
       "\n",
       "    .dataframe thead th {\n",
       "        text-align: right;\n",
       "    }\n",
       "</style>\n",
       "<table border=\"1\" class=\"dataframe\">\n",
       "  <thead>\n",
       "    <tr style=\"text-align: right;\">\n",
       "      <th></th>\n",
       "      <th>Quantity</th>\n",
       "      <th>Value</th>\n",
       "      <th>Weight</th>\n",
       "    </tr>\n",
       "  </thead>\n",
       "  <tbody>\n",
       "    <tr>\n",
       "      <th>0</th>\n",
       "      <td>1979.0</td>\n",
       "      <td>9506.57</td>\n",
       "      <td>4248.65</td>\n",
       "    </tr>\n",
       "    <tr>\n",
       "      <th>1</th>\n",
       "      <td>5763.0</td>\n",
       "      <td>7100.91</td>\n",
       "      <td>4340.81</td>\n",
       "    </tr>\n",
       "    <tr>\n",
       "      <th>2</th>\n",
       "      <td>6147.9</td>\n",
       "      <td>7226.42</td>\n",
       "      <td>0.00</td>\n",
       "    </tr>\n",
       "  </tbody>\n",
       "</table>\n",
       "</div>"
      ],
      "text/plain": [
       "   Quantity    Value   Weight\n",
       "0    1979.0  9506.57  4248.65\n",
       "1    5763.0  7100.91  4340.81\n",
       "2    6147.9  7226.42     0.00"
      ]
     },
     "execution_count": 15,
     "metadata": {},
     "output_type": "execute_result"
    }
   ],
   "source": [
    "imputer=KNNImputer(n_neighbors=10)\n",
    "data_imputed=pd.DataFrame(imputer.fit_transform(df_new),columns=df_new.columns)\n",
    "data_imputed.head(3)"
   ]
  },
  {
   "cell_type": "code",
   "execution_count": 16,
   "id": "1b0e561a",
   "metadata": {},
   "outputs": [
    {
     "data": {
      "text/plain": [
       "Quantity    0\n",
       "Value       0\n",
       "Weight      0\n",
       "dtype: int64"
      ]
     },
     "execution_count": 16,
     "metadata": {},
     "output_type": "execute_result"
    }
   ],
   "source": [
    "data_imputed.isnull().sum()"
   ]
  },
  {
   "cell_type": "code",
   "execution_count": 17,
   "id": "81260b0d",
   "metadata": {},
   "outputs": [
    {
     "data": {
      "text/html": [
       "<div>\n",
       "<style scoped>\n",
       "    .dataframe tbody tr th:only-of-type {\n",
       "        vertical-align: middle;\n",
       "    }\n",
       "\n",
       "    .dataframe tbody tr th {\n",
       "        vertical-align: top;\n",
       "    }\n",
       "\n",
       "    .dataframe thead th {\n",
       "        text-align: right;\n",
       "    }\n",
       "</style>\n",
       "<table border=\"1\" class=\"dataframe\">\n",
       "  <thead>\n",
       "    <tr style=\"text-align: right;\">\n",
       "      <th></th>\n",
       "      <th>Transaction_ID</th>\n",
       "      <th>Country</th>\n",
       "      <th>Product</th>\n",
       "      <th>Import_Export</th>\n",
       "      <th>Shipping_Method</th>\n",
       "      <th>Port</th>\n",
       "      <th>Category</th>\n",
       "      <th>Date</th>\n",
       "      <th>Customs_Code</th>\n",
       "    </tr>\n",
       "  </thead>\n",
       "  <tbody>\n",
       "    <tr>\n",
       "      <th>0</th>\n",
       "      <td>e3e70682-c209-4cac-a29f-6fbed82c07cd</td>\n",
       "      <td>Colombia</td>\n",
       "      <td>describe</td>\n",
       "      <td>Export</td>\n",
       "      <td>Air</td>\n",
       "      <td>Robertbury</td>\n",
       "      <td>Machinery</td>\n",
       "      <td>7/12/2023</td>\n",
       "      <td>620537</td>\n",
       "    </tr>\n",
       "    <tr>\n",
       "      <th>1</th>\n",
       "      <td>f728b4fa-4248-4e3a-8a5d-2f346baa9455</td>\n",
       "      <td>Chile</td>\n",
       "      <td>president</td>\n",
       "      <td>Export</td>\n",
       "      <td>Air</td>\n",
       "      <td>Shahport</td>\n",
       "      <td>Clothing</td>\n",
       "      <td>4/4/2023</td>\n",
       "      <td>927600</td>\n",
       "    </tr>\n",
       "    <tr>\n",
       "      <th>2</th>\n",
       "      <td>f7c1bd87-4da5-4709-9471-3d60c8a70639</td>\n",
       "      <td>Christmas Island</td>\n",
       "      <td>agency</td>\n",
       "      <td>Export</td>\n",
       "      <td>Air</td>\n",
       "      <td>Adamfort</td>\n",
       "      <td>Furniture</td>\n",
       "      <td>9/5/2022</td>\n",
       "      <td>996084</td>\n",
       "    </tr>\n",
       "    <tr>\n",
       "      <th>3</th>\n",
       "      <td>e443df78-9558-467f-9ba9-1faf7a024204</td>\n",
       "      <td>Finland</td>\n",
       "      <td>policy</td>\n",
       "      <td>Export</td>\n",
       "      <td>Air</td>\n",
       "      <td>Juliebury</td>\n",
       "      <td>Electronics</td>\n",
       "      <td>3/4/2023</td>\n",
       "      <td>555981</td>\n",
       "    </tr>\n",
       "    <tr>\n",
       "      <th>4</th>\n",
       "      <td>23a7711a-8133-4876-b7eb-dcd9e87a1613</td>\n",
       "      <td>New Zealand</td>\n",
       "      <td>positive</td>\n",
       "      <td>Export</td>\n",
       "      <td>Sea</td>\n",
       "      <td>East Randall</td>\n",
       "      <td>Machinery</td>\n",
       "      <td>23-07-2021</td>\n",
       "      <td>741778</td>\n",
       "    </tr>\n",
       "  </tbody>\n",
       "</table>\n",
       "</div>"
      ],
      "text/plain": [
       "                         Transaction_ID           Country    Product  \\\n",
       "0  e3e70682-c209-4cac-a29f-6fbed82c07cd          Colombia   describe   \n",
       "1  f728b4fa-4248-4e3a-8a5d-2f346baa9455             Chile  president   \n",
       "2  f7c1bd87-4da5-4709-9471-3d60c8a70639  Christmas Island     agency   \n",
       "3  e443df78-9558-467f-9ba9-1faf7a024204           Finland     policy   \n",
       "4  23a7711a-8133-4876-b7eb-dcd9e87a1613       New Zealand   positive   \n",
       "\n",
       "  Import_Export Shipping_Method          Port     Category        Date  \\\n",
       "0        Export             Air    Robertbury    Machinery   7/12/2023   \n",
       "1        Export             Air      Shahport     Clothing    4/4/2023   \n",
       "2        Export             Air      Adamfort    Furniture    9/5/2022   \n",
       "3        Export             Air     Juliebury  Electronics    3/4/2023   \n",
       "4        Export             Sea  East Randall    Machinery  23-07-2021   \n",
       "\n",
       "  Customs_Code  \n",
       "0       620537  \n",
       "1       927600  \n",
       "2       996084  \n",
       "3       555981  \n",
       "4       741778  "
      ]
     },
     "execution_count": 17,
     "metadata": {},
     "output_type": "execute_result"
    }
   ],
   "source": [
    "df_cat = df.drop(['Quantity','Value','Weight'], axis=1)\n",
    "df_cat.head()"
   ]
  },
  {
   "cell_type": "code",
   "execution_count": 18,
   "id": "c306c7ef",
   "metadata": {},
   "outputs": [
    {
     "data": {
      "text/html": [
       "<div>\n",
       "<style scoped>\n",
       "    .dataframe tbody tr th:only-of-type {\n",
       "        vertical-align: middle;\n",
       "    }\n",
       "\n",
       "    .dataframe tbody tr th {\n",
       "        vertical-align: top;\n",
       "    }\n",
       "\n",
       "    .dataframe thead th {\n",
       "        text-align: right;\n",
       "    }\n",
       "</style>\n",
       "<table border=\"1\" class=\"dataframe\">\n",
       "  <thead>\n",
       "    <tr style=\"text-align: right;\">\n",
       "      <th></th>\n",
       "      <th>Transaction_ID</th>\n",
       "      <th>Country</th>\n",
       "      <th>Product</th>\n",
       "      <th>Import_Export</th>\n",
       "      <th>Shipping_Method</th>\n",
       "      <th>Port</th>\n",
       "      <th>Category</th>\n",
       "      <th>Date</th>\n",
       "      <th>Customs_Code</th>\n",
       "      <th>Quantity</th>\n",
       "      <th>Value</th>\n",
       "      <th>Weight</th>\n",
       "    </tr>\n",
       "  </thead>\n",
       "  <tbody>\n",
       "    <tr>\n",
       "      <th>0</th>\n",
       "      <td>e3e70682-c209-4cac-a29f-6fbed82c07cd</td>\n",
       "      <td>Colombia</td>\n",
       "      <td>describe</td>\n",
       "      <td>Export</td>\n",
       "      <td>Air</td>\n",
       "      <td>Robertbury</td>\n",
       "      <td>Machinery</td>\n",
       "      <td>7/12/2023</td>\n",
       "      <td>620537</td>\n",
       "      <td>1979.0</td>\n",
       "      <td>9506.57</td>\n",
       "      <td>4248.65</td>\n",
       "    </tr>\n",
       "    <tr>\n",
       "      <th>1</th>\n",
       "      <td>f728b4fa-4248-4e3a-8a5d-2f346baa9455</td>\n",
       "      <td>Chile</td>\n",
       "      <td>president</td>\n",
       "      <td>Export</td>\n",
       "      <td>Air</td>\n",
       "      <td>Shahport</td>\n",
       "      <td>Clothing</td>\n",
       "      <td>4/4/2023</td>\n",
       "      <td>927600</td>\n",
       "      <td>5763.0</td>\n",
       "      <td>7100.91</td>\n",
       "      <td>4340.81</td>\n",
       "    </tr>\n",
       "    <tr>\n",
       "      <th>2</th>\n",
       "      <td>f7c1bd87-4da5-4709-9471-3d60c8a70639</td>\n",
       "      <td>Christmas Island</td>\n",
       "      <td>agency</td>\n",
       "      <td>Export</td>\n",
       "      <td>Air</td>\n",
       "      <td>Adamfort</td>\n",
       "      <td>Furniture</td>\n",
       "      <td>9/5/2022</td>\n",
       "      <td>996084</td>\n",
       "      <td>6147.9</td>\n",
       "      <td>7226.42</td>\n",
       "      <td>0.00</td>\n",
       "    </tr>\n",
       "    <tr>\n",
       "      <th>3</th>\n",
       "      <td>e443df78-9558-467f-9ba9-1faf7a024204</td>\n",
       "      <td>Finland</td>\n",
       "      <td>policy</td>\n",
       "      <td>Export</td>\n",
       "      <td>Air</td>\n",
       "      <td>Juliebury</td>\n",
       "      <td>Electronics</td>\n",
       "      <td>3/4/2023</td>\n",
       "      <td>555981</td>\n",
       "      <td>2622.0</td>\n",
       "      <td>2817.29</td>\n",
       "      <td>4406.74</td>\n",
       "    </tr>\n",
       "    <tr>\n",
       "      <th>4</th>\n",
       "      <td>23a7711a-8133-4876-b7eb-dcd9e87a1613</td>\n",
       "      <td>New Zealand</td>\n",
       "      <td>positive</td>\n",
       "      <td>Export</td>\n",
       "      <td>Sea</td>\n",
       "      <td>East Randall</td>\n",
       "      <td>Machinery</td>\n",
       "      <td>23-07-2021</td>\n",
       "      <td>741778</td>\n",
       "      <td>6975.0</td>\n",
       "      <td>657.80</td>\n",
       "      <td>1497.16</td>\n",
       "    </tr>\n",
       "  </tbody>\n",
       "</table>\n",
       "</div>"
      ],
      "text/plain": [
       "                         Transaction_ID           Country    Product  \\\n",
       "0  e3e70682-c209-4cac-a29f-6fbed82c07cd          Colombia   describe   \n",
       "1  f728b4fa-4248-4e3a-8a5d-2f346baa9455             Chile  president   \n",
       "2  f7c1bd87-4da5-4709-9471-3d60c8a70639  Christmas Island     agency   \n",
       "3  e443df78-9558-467f-9ba9-1faf7a024204           Finland     policy   \n",
       "4  23a7711a-8133-4876-b7eb-dcd9e87a1613       New Zealand   positive   \n",
       "\n",
       "  Import_Export Shipping_Method          Port     Category        Date  \\\n",
       "0        Export             Air    Robertbury    Machinery   7/12/2023   \n",
       "1        Export             Air      Shahport     Clothing    4/4/2023   \n",
       "2        Export             Air      Adamfort    Furniture    9/5/2022   \n",
       "3        Export             Air     Juliebury  Electronics    3/4/2023   \n",
       "4        Export             Sea  East Randall    Machinery  23-07-2021   \n",
       "\n",
       "  Customs_Code  Quantity    Value   Weight  \n",
       "0       620537    1979.0  9506.57  4248.65  \n",
       "1       927600    5763.0  7100.91  4340.81  \n",
       "2       996084    6147.9  7226.42     0.00  \n",
       "3       555981    2622.0  2817.29  4406.74  \n",
       "4       741778    6975.0   657.80  1497.16  "
      ]
     },
     "execution_count": 18,
     "metadata": {},
     "output_type": "execute_result"
    }
   ],
   "source": [
    "df1 = pd.concat([df_cat, data_imputed], axis=1)\n",
    "df1.head()"
   ]
  },
  {
   "cell_type": "code",
   "execution_count": 19,
   "id": "76627586",
   "metadata": {},
   "outputs": [
    {
     "data": {
      "text/plain": [
       "0"
      ]
     },
     "execution_count": 19,
     "metadata": {},
     "output_type": "execute_result"
    }
   ],
   "source": [
    "df1.isnull().sum().sum()"
   ]
  },
  {
   "cell_type": "code",
   "execution_count": 20,
   "id": "b6029cc3",
   "metadata": {},
   "outputs": [
    {
     "name": "stdout",
     "output_type": "stream",
     "text": [
      "['Quantity', 'Value', 'Weight']\n",
      "#================================================#\n",
      "['Transaction_ID', 'Country', 'Product', 'Import_Export', 'Shipping_Method', 'Port', 'Category', 'Date', 'Customs_Code']\n"
     ]
    }
   ],
   "source": [
    "num_col = []\n",
    "cat_col = []\n",
    "for i in df1.columns:\n",
    "    if df1[i].dtypes == 'int64' or df1[i].dtypes == 'float64':\n",
    "        num_col.append(i)\n",
    "    else:\n",
    "        cat_col.append(i)\n",
    "print(num_col)\n",
    "print('#================================================#')\n",
    "print(cat_col)"
   ]
  },
  {
   "cell_type": "code",
   "execution_count": 21,
   "id": "b556c071",
   "metadata": {},
   "outputs": [
    {
     "data": {
      "image/png": "[encoded data removed]",
      "text/plain": [
       "<Figure size 800x640 with 4 Axes>"
      ]
     },
     "metadata": {},
     "output_type": "display_data"
    }
   ],
   "source": [
    "f, ax = plt.subplots(2,2, figsize=(10,8), dpi=80)\n",
    "index = 0\n",
    "try:\n",
    "    for i in range(2):\n",
    "        for j in range(2):\n",
    "            ax[i,j].boxplot(df1[num_col[index]])\n",
    "            ax[i,j].set_title(num_col[index])\n",
    "            index+=1\n",
    "except:\n",
    "    pass\n",
    "plt.show()"
   ]
  },
  {
   "cell_type": "code",
   "execution_count": 22,
   "id": "36b42146",
   "metadata": {},
   "outputs": [
    {
     "data": {
      "image/png": "[encoded data removed]",
      "text/plain": [
       "<Figure size 640x480 with 1 Axes>"
      ]
     },
     "metadata": {},
     "output_type": "display_data"
    },
    {
     "data": {
      "image/png": "[encoded data removed]",
      "text/plain": [
       "<Figure size 640x480 with 1 Axes>"
      ]
     },
     "metadata": {},
     "output_type": "display_data"
    },
    {
     "data": {
      "image/png": "[encoded data removed]",
      "text/plain": [
       "<Figure size 640x480 with 1 Axes>"
      ]
     },
     "metadata": {},
     "output_type": "display_data"
    }
   ],
   "source": [
    "def distplots(num_col):\n",
    "    sns.kdeplot(df1[num_col],color='#7FFF00',fill=True, palette=True)\n",
    "    plt.show()\n",
    "    \n",
    "for i in list(df.select_dtypes(exclude=['object']).columns)[0:]:\n",
    "    distplots(i)"
   ]
  },
  {
   "cell_type": "code",
   "execution_count": 23,
   "id": "03fc11e7",
   "metadata": {},
   "outputs": [
    {
     "data": {
      "text/plain": [
       "['Transaction_ID',\n",
       " 'Country',\n",
       " 'Product',\n",
       " 'Import_Export',\n",
       " 'Shipping_Method',\n",
       " 'Port',\n",
       " 'Category',\n",
       " 'Date',\n",
       " 'Customs_Code']"
      ]
     },
     "execution_count": 23,
     "metadata": {},
     "output_type": "execute_result"
    }
   ],
   "source": [
    "cat_col"
   ]
  },
  {
   "cell_type": "code",
   "execution_count": 24,
   "id": "406fc5e1",
   "metadata": {},
   "outputs": [
    {
     "name": "stdout",
     "output_type": "stream",
     "text": [
      "Clothing in percent = 100 %\n",
      "Furniture in percent = 100 %\n",
      "Electronics in percent = 100 %\n",
      "Machinery in percent = 100 %\n",
      "Toys in percent = 100 %\n"
     ]
    }
   ],
   "source": [
    "Category_all=[]\n",
    "Percentage=[]\n",
    "for i in df1.Category.value_counts().index:\n",
    "    a=len(df1[(df1.Category==i) & (df1.Import_Export==\"Import\")])\n",
    "    b=len(df1[(df1.Category==i) & (df1.Import_Export=='Export')])\n",
    "    c=len(df1[df1.Category==i])\n",
    "    Percentage.append((a+b)/c*100)\n",
    "    Category_all.append(i)\n",
    "    print(i,'in percent =',round((a+b)/c*100),'%')"
   ]
  },
  {
   "cell_type": "code",
   "execution_count": 25,
   "id": "c22a0189",
   "metadata": {},
   "outputs": [
    {
     "data": {
      "image/png": "[encoded data removed]",
      "text/plain": [
       "<Figure size 640x480 with 1 Axes>"
      ]
     },
     "metadata": {},
     "output_type": "display_data"
    }
   ],
   "source": [
    "sns.barplot(x=Category_all, y=Percentage)\n",
    "plt.xticks(rotation=90)\n",
    "plt.show()"
   ]
  },
  {
   "cell_type": "code",
   "execution_count": 26,
   "id": "ec0f361b",
   "metadata": {},
   "outputs": [
    {
     "data": {
      "text/html": [
       "<div>\n",
       "<style scoped>\n",
       "    .dataframe tbody tr th:only-of-type {\n",
       "        vertical-align: middle;\n",
       "    }\n",
       "\n",
       "    .dataframe tbody tr th {\n",
       "        vertical-align: top;\n",
       "    }\n",
       "\n",
       "    .dataframe thead th {\n",
       "        text-align: right;\n",
       "    }\n",
       "</style>\n",
       "<table border=\"1\" class=\"dataframe\">\n",
       "  <thead>\n",
       "    <tr style=\"text-align: right;\">\n",
       "      <th></th>\n",
       "      <th>Product</th>\n",
       "    </tr>\n",
       "    <tr>\n",
       "      <th>Import_Export</th>\n",
       "      <th></th>\n",
       "    </tr>\n",
       "  </thead>\n",
       "  <tbody>\n",
       "    <tr>\n",
       "      <th>Export</th>\n",
       "      <td>7431</td>\n",
       "    </tr>\n",
       "    <tr>\n",
       "      <th>Import</th>\n",
       "      <td>7569</td>\n",
       "    </tr>\n",
       "  </tbody>\n",
       "</table>\n",
       "</div>"
      ],
      "text/plain": [
       "               Product\n",
       "Import_Export         \n",
       "Export            7431\n",
       "Import            7569"
      ]
     },
     "execution_count": 26,
     "metadata": {},
     "output_type": "execute_result"
    }
   ],
   "source": [
    "df1[[\"Import_Export\",'Product']].groupby(\"Import_Export\").agg(\"count\")"
   ]
  },
  {
   "cell_type": "code",
   "execution_count": 27,
   "id": "830611ec",
   "metadata": {},
   "outputs": [
    {
     "data": {
      "text/html": [
       "<div>\n",
       "<style scoped>\n",
       "    .dataframe tbody tr th:only-of-type {\n",
       "        vertical-align: middle;\n",
       "    }\n",
       "\n",
       "    .dataframe tbody tr th {\n",
       "        vertical-align: top;\n",
       "    }\n",
       "\n",
       "    .dataframe thead th {\n",
       "        text-align: right;\n",
       "    }\n",
       "</style>\n",
       "<table border=\"1\" class=\"dataframe\">\n",
       "  <thead>\n",
       "    <tr style=\"text-align: right;\">\n",
       "      <th></th>\n",
       "      <th></th>\n",
       "      <th>Product</th>\n",
       "    </tr>\n",
       "    <tr>\n",
       "      <th>Import_Export</th>\n",
       "      <th>Country</th>\n",
       "      <th></th>\n",
       "    </tr>\n",
       "  </thead>\n",
       "  <tbody>\n",
       "    <tr>\n",
       "      <th rowspan=\"5\" valign=\"top\">Export</th>\n",
       "      <th>Afghanistan</th>\n",
       "      <td>23</td>\n",
       "    </tr>\n",
       "    <tr>\n",
       "      <th>Albania</th>\n",
       "      <td>36</td>\n",
       "    </tr>\n",
       "    <tr>\n",
       "      <th>Algeria</th>\n",
       "      <td>30</td>\n",
       "    </tr>\n",
       "    <tr>\n",
       "      <th>American Samoa</th>\n",
       "      <td>27</td>\n",
       "    </tr>\n",
       "    <tr>\n",
       "      <th>Andorra</th>\n",
       "      <td>20</td>\n",
       "    </tr>\n",
       "    <tr>\n",
       "      <th>...</th>\n",
       "      <th>...</th>\n",
       "      <td>...</td>\n",
       "    </tr>\n",
       "    <tr>\n",
       "      <th rowspan=\"5\" valign=\"top\">Import</th>\n",
       "      <th>Wallis and Futuna</th>\n",
       "      <td>36</td>\n",
       "    </tr>\n",
       "    <tr>\n",
       "      <th>Western Sahara</th>\n",
       "      <td>34</td>\n",
       "    </tr>\n",
       "    <tr>\n",
       "      <th>Yemen</th>\n",
       "      <td>28</td>\n",
       "    </tr>\n",
       "    <tr>\n",
       "      <th>Zambia</th>\n",
       "      <td>27</td>\n",
       "    </tr>\n",
       "    <tr>\n",
       "      <th>Zimbabwe</th>\n",
       "      <td>29</td>\n",
       "    </tr>\n",
       "  </tbody>\n",
       "</table>\n",
       "<p>486 rows × 1 columns</p>\n",
       "</div>"
      ],
      "text/plain": [
       "                                 Product\n",
       "Import_Export Country                   \n",
       "Export        Afghanistan             23\n",
       "              Albania                 36\n",
       "              Algeria                 30\n",
       "              American Samoa          27\n",
       "              Andorra                 20\n",
       "...                                  ...\n",
       "Import        Wallis and Futuna       36\n",
       "              Western Sahara          34\n",
       "              Yemen                   28\n",
       "              Zambia                  27\n",
       "              Zimbabwe                29\n",
       "\n",
       "[486 rows x 1 columns]"
      ]
     },
     "execution_count": 27,
     "metadata": {},
     "output_type": "execute_result"
    }
   ],
   "source": [
    "df1[[\"Import_Export\",\"Country\",\"Product\"]].groupby([\"Import_Export\",\"Country\"]).agg(\"count\")"
   ]
  },
  {
   "cell_type": "code",
   "execution_count": 28,
   "id": "4ced03d6",
   "metadata": {},
   "outputs": [
    {
     "data": {
      "text/html": [
       "<div>\n",
       "<style scoped>\n",
       "    .dataframe tbody tr th:only-of-type {\n",
       "        vertical-align: middle;\n",
       "    }\n",
       "\n",
       "    .dataframe tbody tr th {\n",
       "        vertical-align: top;\n",
       "    }\n",
       "\n",
       "    .dataframe thead th {\n",
       "        text-align: right;\n",
       "    }\n",
       "</style>\n",
       "<table border=\"1\" class=\"dataframe\">\n",
       "  <thead>\n",
       "    <tr style=\"text-align: right;\">\n",
       "      <th></th>\n",
       "      <th></th>\n",
       "      <th>Value</th>\n",
       "    </tr>\n",
       "    <tr>\n",
       "      <th>Import_Export</th>\n",
       "      <th>Category</th>\n",
       "      <th></th>\n",
       "    </tr>\n",
       "  </thead>\n",
       "  <tbody>\n",
       "    <tr>\n",
       "      <th rowspan=\"5\" valign=\"top\">Export</th>\n",
       "      <th>Clothing</th>\n",
       "      <td>1491</td>\n",
       "    </tr>\n",
       "    <tr>\n",
       "      <th>Electronics</th>\n",
       "      <td>1534</td>\n",
       "    </tr>\n",
       "    <tr>\n",
       "      <th>Furniture</th>\n",
       "      <td>1496</td>\n",
       "    </tr>\n",
       "    <tr>\n",
       "      <th>Machinery</th>\n",
       "      <td>1454</td>\n",
       "    </tr>\n",
       "    <tr>\n",
       "      <th>Toys</th>\n",
       "      <td>1456</td>\n",
       "    </tr>\n",
       "    <tr>\n",
       "      <th rowspan=\"5\" valign=\"top\">Import</th>\n",
       "      <th>Clothing</th>\n",
       "      <td>1557</td>\n",
       "    </tr>\n",
       "    <tr>\n",
       "      <th>Electronics</th>\n",
       "      <td>1487</td>\n",
       "    </tr>\n",
       "    <tr>\n",
       "      <th>Furniture</th>\n",
       "      <td>1528</td>\n",
       "    </tr>\n",
       "    <tr>\n",
       "      <th>Machinery</th>\n",
       "      <td>1556</td>\n",
       "    </tr>\n",
       "    <tr>\n",
       "      <th>Toys</th>\n",
       "      <td>1441</td>\n",
       "    </tr>\n",
       "  </tbody>\n",
       "</table>\n",
       "</div>"
      ],
      "text/plain": [
       "                           Value\n",
       "Import_Export Category          \n",
       "Export        Clothing      1491\n",
       "              Electronics   1534\n",
       "              Furniture     1496\n",
       "              Machinery     1454\n",
       "              Toys          1456\n",
       "Import        Clothing      1557\n",
       "              Electronics   1487\n",
       "              Furniture     1528\n",
       "              Machinery     1556\n",
       "              Toys          1441"
      ]
     },
     "execution_count": 28,
     "metadata": {},
     "output_type": "execute_result"
    }
   ],
   "source": [
    "df1[[\"Value\",\"Import_Export\",\"Category\"]].groupby([\"Import_Export\",\"Category\"]).agg(\"count\")"
   ]
  },
  {
   "cell_type": "code",
   "execution_count": 29,
   "id": "83cc0f46",
   "metadata": {},
   "outputs": [
    {
     "data": {
      "text/html": [
       "<div>\n",
       "<style scoped>\n",
       "    .dataframe tbody tr th:only-of-type {\n",
       "        vertical-align: middle;\n",
       "    }\n",
       "\n",
       "    .dataframe tbody tr th {\n",
       "        vertical-align: top;\n",
       "    }\n",
       "\n",
       "    .dataframe thead tr th {\n",
       "        text-align: left;\n",
       "    }\n",
       "\n",
       "    .dataframe thead tr:last-of-type th {\n",
       "        text-align: right;\n",
       "    }\n",
       "</style>\n",
       "<table border=\"1\" class=\"dataframe\">\n",
       "  <thead>\n",
       "    <tr>\n",
       "      <th></th>\n",
       "      <th></th>\n",
       "      <th colspan=\"2\" halign=\"left\">Value</th>\n",
       "    </tr>\n",
       "    <tr>\n",
       "      <th></th>\n",
       "      <th></th>\n",
       "      <th>min</th>\n",
       "      <th>max</th>\n",
       "    </tr>\n",
       "    <tr>\n",
       "      <th>Product</th>\n",
       "      <th>Quantity</th>\n",
       "      <th></th>\n",
       "      <th></th>\n",
       "    </tr>\n",
       "  </thead>\n",
       "  <tbody>\n",
       "    <tr>\n",
       "      <th rowspan=\"5\" valign=\"top\">American</th>\n",
       "      <th>740.0</th>\n",
       "      <td>2165.16</td>\n",
       "      <td>2165.16</td>\n",
       "    </tr>\n",
       "    <tr>\n",
       "      <th>1076.0</th>\n",
       "      <td>2442.68</td>\n",
       "      <td>2442.68</td>\n",
       "    </tr>\n",
       "    <tr>\n",
       "      <th>2113.0</th>\n",
       "      <td>4415.97</td>\n",
       "      <td>4415.97</td>\n",
       "    </tr>\n",
       "    <tr>\n",
       "      <th>2548.0</th>\n",
       "      <td>7077.48</td>\n",
       "      <td>7077.48</td>\n",
       "    </tr>\n",
       "    <tr>\n",
       "      <th>3148.0</th>\n",
       "      <td>1498.06</td>\n",
       "      <td>1498.06</td>\n",
       "    </tr>\n",
       "    <tr>\n",
       "      <th>...</th>\n",
       "      <th>...</th>\n",
       "      <td>...</td>\n",
       "      <td>...</td>\n",
       "    </tr>\n",
       "    <tr>\n",
       "      <th rowspan=\"5\" valign=\"top\">yourself</th>\n",
       "      <th>6842.0</th>\n",
       "      <td>2128.33</td>\n",
       "      <td>2128.33</td>\n",
       "    </tr>\n",
       "    <tr>\n",
       "      <th>6912.0</th>\n",
       "      <td>3190.19</td>\n",
       "      <td>3190.19</td>\n",
       "    </tr>\n",
       "    <tr>\n",
       "      <th>9614.0</th>\n",
       "      <td>7824.75</td>\n",
       "      <td>7824.75</td>\n",
       "    </tr>\n",
       "    <tr>\n",
       "      <th>9654.0</th>\n",
       "      <td>1647.26</td>\n",
       "      <td>1647.26</td>\n",
       "    </tr>\n",
       "    <tr>\n",
       "      <th>9700.0</th>\n",
       "      <td>1484.88</td>\n",
       "      <td>1484.88</td>\n",
       "    </tr>\n",
       "  </tbody>\n",
       "</table>\n",
       "<p>14986 rows × 2 columns</p>\n",
       "</div>"
      ],
      "text/plain": [
       "                     Value         \n",
       "                       min      max\n",
       "Product  Quantity                  \n",
       "American 740.0     2165.16  2165.16\n",
       "         1076.0    2442.68  2442.68\n",
       "         2113.0    4415.97  4415.97\n",
       "         2548.0    7077.48  7077.48\n",
       "         3148.0    1498.06  1498.06\n",
       "...                    ...      ...\n",
       "yourself 6842.0    2128.33  2128.33\n",
       "         6912.0    3190.19  3190.19\n",
       "         9614.0    7824.75  7824.75\n",
       "         9654.0    1647.26  1647.26\n",
       "         9700.0    1484.88  1484.88\n",
       "\n",
       "[14986 rows x 2 columns]"
      ]
     },
     "execution_count": 29,
     "metadata": {},
     "output_type": "execute_result"
    }
   ],
   "source": [
    "df1[[\"Product\",\"Quantity\",\"Value\"]].groupby([\"Product\",\"Quantity\"]).agg([min,max])"
   ]
  },
  {
   "cell_type": "code",
   "execution_count": 34,
   "id": "a3ce8fd2",
   "metadata": {},
   "outputs": [
    {
     "name": "stdout",
     "output_type": "stream",
     "text": [
      "                  Quantity        Value       Weight\n",
      "Import_Export                                       \n",
      "Export         4963.438528  5038.881121  2491.921513\n",
      "Import         4999.468886  5026.717268  2491.591563\n"
     ]
    }
   ],
   "source": [
    "x=df1.groupby(by='Import_Export').agg(Quantity=('Quantity','mean'),Value=('Value','mean'),\n",
    "                            Weight=('Weight','mean'))\n",
    "print(x)"
   ]
  },
  {
   "cell_type": "code",
   "execution_count": 35,
   "id": "4f1bed90",
   "metadata": {},
   "outputs": [
    {
     "data": {
      "text/plain": [
       "Text(0.5, 1.0, 'Weight')"
      ]
     },
     "execution_count": 35,
     "metadata": {},
     "output_type": "execute_result"
    },
    {
     "data": {
      "image/png": "[encoded data removed]",
      "text/plain": [
       "<Figure size 1100x900 with 3 Axes>"
      ]
     },
     "metadata": {},
     "output_type": "display_data"
    }
   ],
   "source": [
    "plt.figure(figsize=(11,9))\n",
    "plt.subplot(1,3,1)\n",
    "plt.pie(labels=x.index,x=x['Quantity'].values,autopct='%.2f')\n",
    "plt.title('Quantity')\n",
    "\n",
    "plt.subplot(1,3,2)\n",
    "plt.pie(labels=x.index,x=x['Value'].values,autopct='%.2f')\n",
    "plt.title('Value')\n",
    "\n",
    "plt.subplot(1,3,3)\n",
    "plt.pie(labels=x.index,x=x['Weight'].values,autopct='%.2f')\n",
    "plt.title('Weight')"
   ]
  },
  {
   "cell_type": "code",
   "execution_count": 36,
   "id": "6a265b3b",
   "metadata": {},
   "outputs": [
    {
     "data": {
      "text/html": [
       "<div>\n",
       "<style scoped>\n",
       "    .dataframe tbody tr th:only-of-type {\n",
       "        vertical-align: middle;\n",
       "    }\n",
       "\n",
       "    .dataframe tbody tr th {\n",
       "        vertical-align: top;\n",
       "    }\n",
       "\n",
       "    .dataframe thead th {\n",
       "        text-align: right;\n",
       "    }\n",
       "</style>\n",
       "<table border=\"1\" class=\"dataframe\">\n",
       "  <thead>\n",
       "    <tr style=\"text-align: right;\">\n",
       "      <th></th>\n",
       "      <th>Transaction_ID</th>\n",
       "      <th>Country</th>\n",
       "      <th>Product</th>\n",
       "      <th>Import_Export</th>\n",
       "      <th>Shipping_Method</th>\n",
       "      <th>Port</th>\n",
       "      <th>Category</th>\n",
       "      <th>Date</th>\n",
       "      <th>Customs_Code</th>\n",
       "      <th>Quantity</th>\n",
       "      <th>Value</th>\n",
       "      <th>Weight</th>\n",
       "    </tr>\n",
       "  </thead>\n",
       "  <tbody>\n",
       "    <tr>\n",
       "      <th>0</th>\n",
       "      <td>e3e70682-c209-4cac-a29f-6fbed82c07cd</td>\n",
       "      <td>Colombia</td>\n",
       "      <td>describe</td>\n",
       "      <td>Export</td>\n",
       "      <td>Air</td>\n",
       "      <td>Robertbury</td>\n",
       "      <td>Machinery</td>\n",
       "      <td>7/12/2023</td>\n",
       "      <td>620537</td>\n",
       "      <td>1979.0</td>\n",
       "      <td>9506.57</td>\n",
       "      <td>4248.65</td>\n",
       "    </tr>\n",
       "    <tr>\n",
       "      <th>1</th>\n",
       "      <td>f728b4fa-4248-4e3a-8a5d-2f346baa9455</td>\n",
       "      <td>Chile</td>\n",
       "      <td>president</td>\n",
       "      <td>Export</td>\n",
       "      <td>Air</td>\n",
       "      <td>Shahport</td>\n",
       "      <td>Clothing</td>\n",
       "      <td>4/4/2023</td>\n",
       "      <td>927600</td>\n",
       "      <td>5763.0</td>\n",
       "      <td>7100.91</td>\n",
       "      <td>4340.81</td>\n",
       "    </tr>\n",
       "    <tr>\n",
       "      <th>2</th>\n",
       "      <td>f7c1bd87-4da5-4709-9471-3d60c8a70639</td>\n",
       "      <td>Christmas Island</td>\n",
       "      <td>agency</td>\n",
       "      <td>Export</td>\n",
       "      <td>Air</td>\n",
       "      <td>Adamfort</td>\n",
       "      <td>Furniture</td>\n",
       "      <td>9/5/2022</td>\n",
       "      <td>996084</td>\n",
       "      <td>6147.9</td>\n",
       "      <td>7226.42</td>\n",
       "      <td>0.00</td>\n",
       "    </tr>\n",
       "  </tbody>\n",
       "</table>\n",
       "</div>"
      ],
      "text/plain": [
       "                         Transaction_ID           Country    Product  \\\n",
       "0  e3e70682-c209-4cac-a29f-6fbed82c07cd          Colombia   describe   \n",
       "1  f728b4fa-4248-4e3a-8a5d-2f346baa9455             Chile  president   \n",
       "2  f7c1bd87-4da5-4709-9471-3d60c8a70639  Christmas Island     agency   \n",
       "\n",
       "  Import_Export Shipping_Method        Port   Category       Date  \\\n",
       "0        Export             Air  Robertbury  Machinery  7/12/2023   \n",
       "1        Export             Air    Shahport   Clothing   4/4/2023   \n",
       "2        Export             Air    Adamfort  Furniture   9/5/2022   \n",
       "\n",
       "  Customs_Code  Quantity    Value   Weight  \n",
       "0       620537    1979.0  9506.57  4248.65  \n",
       "1       927600    5763.0  7100.91  4340.81  \n",
       "2       996084    6147.9  7226.42     0.00  "
      ]
     },
     "execution_count": 36,
     "metadata": {},
     "output_type": "execute_result"
    }
   ],
   "source": [
    "df1.head(3)"
   ]
  },
  {
   "cell_type": "code",
   "execution_count": 37,
   "id": "9f8f7afe",
   "metadata": {},
   "outputs": [
    {
     "name": "stdout",
     "output_type": "stream",
     "text": [
      "['Machinery' 'Clothing' 'Furniture' 'Electronics' 'Toys']\n"
     ]
    }
   ],
   "source": [
    "print(df1[\"Category\"].unique())"
   ]
  },
  {
   "cell_type": "code",
   "execution_count": 38,
   "id": "ee9437ef",
   "metadata": {},
   "outputs": [],
   "source": [
    "from sklearn.preprocessing import LabelEncoder\n",
    "le = LabelEncoder()"
   ]
  },
  {
   "cell_type": "code",
   "execution_count": 39,
   "id": "a70f1689",
   "metadata": {},
   "outputs": [],
   "source": [
    "def Label_encode(feat):\n",
    "    le.fit(feat)\n",
    "    print(feat.name, le.classes_)\n",
    "    return le.transform(feat)"
   ]
  },
  {
   "cell_type": "code",
   "execution_count": 40,
   "id": "d70b2705",
   "metadata": {},
   "outputs": [
    {
     "name": "stdout",
     "output_type": "stream",
     "text": [
      "Category ['Clothing' 'Electronics' 'Furniture' 'Machinery' 'Toys']\n"
     ]
    }
   ],
   "source": [
    "df1[\"Category\"]=Label_encode(df1[\"Category\"])"
   ]
  },
  {
   "cell_type": "code",
   "execution_count": 41,
   "id": "f1f95f3b",
   "metadata": {},
   "outputs": [
    {
     "data": {
      "text/html": [
       "<div>\n",
       "<style scoped>\n",
       "    .dataframe tbody tr th:only-of-type {\n",
       "        vertical-align: middle;\n",
       "    }\n",
       "\n",
       "    .dataframe tbody tr th {\n",
       "        vertical-align: top;\n",
       "    }\n",
       "\n",
       "    .dataframe thead th {\n",
       "        text-align: right;\n",
       "    }\n",
       "</style>\n",
       "<table border=\"1\" class=\"dataframe\">\n",
       "  <thead>\n",
       "    <tr style=\"text-align: right;\">\n",
       "      <th></th>\n",
       "      <th>Transaction_ID</th>\n",
       "      <th>Country</th>\n",
       "      <th>Product</th>\n",
       "      <th>Import_Export</th>\n",
       "      <th>Shipping_Method</th>\n",
       "      <th>Port</th>\n",
       "      <th>Category</th>\n",
       "      <th>Date</th>\n",
       "      <th>Customs_Code</th>\n",
       "      <th>Quantity</th>\n",
       "      <th>Value</th>\n",
       "      <th>Weight</th>\n",
       "    </tr>\n",
       "  </thead>\n",
       "  <tbody>\n",
       "    <tr>\n",
       "      <th>0</th>\n",
       "      <td>e3e70682-c209-4cac-a29f-6fbed82c07cd</td>\n",
       "      <td>Colombia</td>\n",
       "      <td>describe</td>\n",
       "      <td>Export</td>\n",
       "      <td>Air</td>\n",
       "      <td>Robertbury</td>\n",
       "      <td>3</td>\n",
       "      <td>7/12/2023</td>\n",
       "      <td>620537</td>\n",
       "      <td>1979.0</td>\n",
       "      <td>9506.57</td>\n",
       "      <td>4248.65</td>\n",
       "    </tr>\n",
       "    <tr>\n",
       "      <th>1</th>\n",
       "      <td>f728b4fa-4248-4e3a-8a5d-2f346baa9455</td>\n",
       "      <td>Chile</td>\n",
       "      <td>president</td>\n",
       "      <td>Export</td>\n",
       "      <td>Air</td>\n",
       "      <td>Shahport</td>\n",
       "      <td>0</td>\n",
       "      <td>4/4/2023</td>\n",
       "      <td>927600</td>\n",
       "      <td>5763.0</td>\n",
       "      <td>7100.91</td>\n",
       "      <td>4340.81</td>\n",
       "    </tr>\n",
       "    <tr>\n",
       "      <th>2</th>\n",
       "      <td>f7c1bd87-4da5-4709-9471-3d60c8a70639</td>\n",
       "      <td>Christmas Island</td>\n",
       "      <td>agency</td>\n",
       "      <td>Export</td>\n",
       "      <td>Air</td>\n",
       "      <td>Adamfort</td>\n",
       "      <td>2</td>\n",
       "      <td>9/5/2022</td>\n",
       "      <td>996084</td>\n",
       "      <td>6147.9</td>\n",
       "      <td>7226.42</td>\n",
       "      <td>0.00</td>\n",
       "    </tr>\n",
       "  </tbody>\n",
       "</table>\n",
       "</div>"
      ],
      "text/plain": [
       "                         Transaction_ID           Country    Product  \\\n",
       "0  e3e70682-c209-4cac-a29f-6fbed82c07cd          Colombia   describe   \n",
       "1  f728b4fa-4248-4e3a-8a5d-2f346baa9455             Chile  president   \n",
       "2  f7c1bd87-4da5-4709-9471-3d60c8a70639  Christmas Island     agency   \n",
       "\n",
       "  Import_Export Shipping_Method        Port  Category       Date Customs_Code  \\\n",
       "0        Export             Air  Robertbury         3  7/12/2023       620537   \n",
       "1        Export             Air    Shahport         0   4/4/2023       927600   \n",
       "2        Export             Air    Adamfort         2   9/5/2022       996084   \n",
       "\n",
       "   Quantity    Value   Weight  \n",
       "0    1979.0  9506.57  4248.65  \n",
       "1    5763.0  7100.91  4340.81  \n",
       "2    6147.9  7226.42     0.00  "
      ]
     },
     "execution_count": 41,
     "metadata": {},
     "output_type": "execute_result"
    }
   ],
   "source": [
    "df1.head(3)"
   ]
  },
  {
   "cell_type": "code",
   "execution_count": 42,
   "id": "984edfbd",
   "metadata": {},
   "outputs": [
    {
     "data": {
      "text/plain": [
       "0    3048\n",
       "2    3024\n",
       "1    3021\n",
       "3    3010\n",
       "4    2897\n",
       "Name: Category, dtype: int64"
      ]
     },
     "execution_count": 42,
     "metadata": {},
     "output_type": "execute_result"
    }
   ],
   "source": [
    "df1[\"Category\"].value_counts()"
   ]
  },
  {
   "cell_type": "code",
   "execution_count": 43,
   "id": "e69c02ba",
   "metadata": {},
   "outputs": [
    {
     "name": "stdout",
     "output_type": "stream",
     "text": [
      "['Air' 'Sea' 'Land']\n",
      "------------------\n",
      "Sea     5054\n",
      "Air     4995\n",
      "Land    4951\n",
      "Name: Shipping_Method, dtype: int64\n"
     ]
    }
   ],
   "source": [
    "print(df1[\"Shipping_Method\"].unique())\n",
    "print(\"------------------\")\n",
    "print(df1[\"Shipping_Method\"].value_counts())"
   ]
  },
  {
   "cell_type": "code",
   "execution_count": 44,
   "id": "2e9d9728",
   "metadata": {},
   "outputs": [
    {
     "name": "stdout",
     "output_type": "stream",
     "text": [
      "Import_Export ['Export' 'Import']\n",
      "Shipping_Method ['Air' 'Land' 'Sea']\n"
     ]
    }
   ],
   "source": [
    "df1[\"Import_Export\"]=Label_encode(df1[\"Import_Export\"])\n",
    "df1[\"Shipping_Method\"]=Label_encode(df1[\"Shipping_Method\"])"
   ]
  },
  {
   "cell_type": "code",
   "execution_count": 45,
   "id": "533f2591",
   "metadata": {},
   "outputs": [
    {
     "data": {
      "text/html": [
       "<div>\n",
       "<style scoped>\n",
       "    .dataframe tbody tr th:only-of-type {\n",
       "        vertical-align: middle;\n",
       "    }\n",
       "\n",
       "    .dataframe tbody tr th {\n",
       "        vertical-align: top;\n",
       "    }\n",
       "\n",
       "    .dataframe thead th {\n",
       "        text-align: right;\n",
       "    }\n",
       "</style>\n",
       "<table border=\"1\" class=\"dataframe\">\n",
       "  <thead>\n",
       "    <tr style=\"text-align: right;\">\n",
       "      <th></th>\n",
       "      <th>Transaction_ID</th>\n",
       "      <th>Country</th>\n",
       "      <th>Product</th>\n",
       "      <th>Import_Export</th>\n",
       "      <th>Shipping_Method</th>\n",
       "      <th>Port</th>\n",
       "      <th>Category</th>\n",
       "      <th>Date</th>\n",
       "      <th>Customs_Code</th>\n",
       "      <th>Quantity</th>\n",
       "      <th>Value</th>\n",
       "      <th>Weight</th>\n",
       "    </tr>\n",
       "  </thead>\n",
       "  <tbody>\n",
       "    <tr>\n",
       "      <th>0</th>\n",
       "      <td>e3e70682-c209-4cac-a29f-6fbed82c07cd</td>\n",
       "      <td>Colombia</td>\n",
       "      <td>describe</td>\n",
       "      <td>0</td>\n",
       "      <td>0</td>\n",
       "      <td>Robertbury</td>\n",
       "      <td>3</td>\n",
       "      <td>7/12/2023</td>\n",
       "      <td>620537</td>\n",
       "      <td>1979.0</td>\n",
       "      <td>9506.57</td>\n",
       "      <td>4248.65</td>\n",
       "    </tr>\n",
       "    <tr>\n",
       "      <th>1</th>\n",
       "      <td>f728b4fa-4248-4e3a-8a5d-2f346baa9455</td>\n",
       "      <td>Chile</td>\n",
       "      <td>president</td>\n",
       "      <td>0</td>\n",
       "      <td>0</td>\n",
       "      <td>Shahport</td>\n",
       "      <td>0</td>\n",
       "      <td>4/4/2023</td>\n",
       "      <td>927600</td>\n",
       "      <td>5763.0</td>\n",
       "      <td>7100.91</td>\n",
       "      <td>4340.81</td>\n",
       "    </tr>\n",
       "    <tr>\n",
       "      <th>2</th>\n",
       "      <td>f7c1bd87-4da5-4709-9471-3d60c8a70639</td>\n",
       "      <td>Christmas Island</td>\n",
       "      <td>agency</td>\n",
       "      <td>0</td>\n",
       "      <td>0</td>\n",
       "      <td>Adamfort</td>\n",
       "      <td>2</td>\n",
       "      <td>9/5/2022</td>\n",
       "      <td>996084</td>\n",
       "      <td>6147.9</td>\n",
       "      <td>7226.42</td>\n",
       "      <td>0.00</td>\n",
       "    </tr>\n",
       "  </tbody>\n",
       "</table>\n",
       "</div>"
      ],
      "text/plain": [
       "                         Transaction_ID           Country    Product  \\\n",
       "0  e3e70682-c209-4cac-a29f-6fbed82c07cd          Colombia   describe   \n",
       "1  f728b4fa-4248-4e3a-8a5d-2f346baa9455             Chile  president   \n",
       "2  f7c1bd87-4da5-4709-9471-3d60c8a70639  Christmas Island     agency   \n",
       "\n",
       "   Import_Export  Shipping_Method        Port  Category       Date  \\\n",
       "0              0                0  Robertbury         3  7/12/2023   \n",
       "1              0                0    Shahport         0   4/4/2023   \n",
       "2              0                0    Adamfort         2   9/5/2022   \n",
       "\n",
       "  Customs_Code  Quantity    Value   Weight  \n",
       "0       620537    1979.0  9506.57  4248.65  \n",
       "1       927600    5763.0  7100.91  4340.81  \n",
       "2       996084    6147.9  7226.42     0.00  "
      ]
     },
     "execution_count": 45,
     "metadata": {},
     "output_type": "execute_result"
    }
   ],
   "source": [
    "df1.head(3)"
   ]
  },
  {
   "cell_type": "code",
   "execution_count": 46,
   "id": "dba01f36",
   "metadata": {},
   "outputs": [
    {
     "name": "stdout",
     "output_type": "stream",
     "text": [
      "<class 'pandas.core.frame.DataFrame'>\n",
      "RangeIndex: 15000 entries, 0 to 14999\n",
      "Data columns (total 12 columns):\n",
      " #   Column           Non-Null Count  Dtype  \n",
      "---  ------           --------------  -----  \n",
      " 0   Transaction_ID   15000 non-null  object \n",
      " 1   Country          15000 non-null  object \n",
      " 2   Product          15000 non-null  object \n",
      " 3   Import_Export    15000 non-null  int32  \n",
      " 4   Shipping_Method  15000 non-null  int32  \n",
      " 5   Port             15000 non-null  object \n",
      " 6   Category         15000 non-null  int32  \n",
      " 7   Date             15000 non-null  object \n",
      " 8   Customs_Code     15000 non-null  object \n",
      " 9   Quantity         15000 non-null  float64\n",
      " 10  Value            15000 non-null  float64\n",
      " 11  Weight           15000 non-null  float64\n",
      "dtypes: float64(3), int32(3), object(6)\n",
      "memory usage: 1.2+ MB\n"
     ]
    }
   ],
   "source": [
    "df1.info()"
   ]
  },
  {
   "cell_type": "code",
   "execution_count": 47,
   "id": "4f30594f",
   "metadata": {},
   "outputs": [
    {
     "data": {
      "image/png": "[encoded data removed]",
      "text/plain": [
       "<Figure size 500x400 with 3 Axes>"
      ]
     },
     "metadata": {},
     "output_type": "display_data"
    }
   ],
   "source": [
    "colors = ['#008000', '#2D2926']\n",
    "\n",
    "Export = df1[df1['Import_Export']==1].describe().T\n",
    "Import = df1[df1['Import_Export']==0].describe().T\n",
    "\n",
    "fig, ax = plt.subplots(nrows=1, ncols=2, figsize=(5,4))\n",
    "plt.subplot(1,2,1)\n",
    "sns.heatmap(Export[['mean']], annot=True, cmap=colors, linewidths=0.4, linecolor = 'black',\n",
    "            cbar=False, fmt='.2f')\n",
    "\n",
    "plt.title('Export Data')\n",
    "\n",
    "plt.subplot(1,2,2)\n",
    "sns.heatmap(Import[['mean']], annot=True, cmap=colors, linewidths=0.4, linecolor = 'black',\n",
    "            cbar=True, fmt='.2f')\n",
    "plt.title('Import Data')\n",
    "\n",
    "fig.tight_layout(pad=0)"
   ]
  },
  {
   "cell_type": "code",
   "execution_count": null,
   "id": "7867ec9e",
   "metadata": {},
   "outputs": [],
   "source": []
  },
  {
   "cell_type": "code",
   "execution_count": null,
   "id": "251e677d",
   "metadata": {},
   "outputs": [],
   "source": []
  },
  {
   "cell_type": "code",
   "execution_count": null,
   "id": "051b2400",
   "metadata": {},
   "outputs": [],
   "source": []
  },
  {
   "cell_type": "code",
   "execution_count": null,
   "id": "b05f11d8",
   "metadata": {},
   "outputs": [],
   "source": []
  },
  {
   "cell_type": "code",
   "execution_count": null,
   "id": "a5674b85",
   "metadata": {},
   "outputs": [],
   "source": []
  },
  {
   "cell_type": "code",
   "execution_count": null,
   "id": "d42910d3",
   "metadata": {},
   "outputs": [],
   "source": []
  },
  {
   "cell_type": "code",
   "execution_count": null,
   "id": "7dd477a7",
   "metadata": {},
   "outputs": [],
   "source": []
  },
  {
   "cell_type": "code",
   "execution_count": null,
   "id": "ca37ca14",
   "metadata": {},
   "outputs": [],
   "source": []
  },
  {
   "cell_type": "code",
   "execution_count": null,
   "id": "41d947bc",
   "metadata": {},
   "outputs": [],
   "source": []
  },
  {
   "cell_type": "code",
   "execution_count": null,
   "id": "a8aae557",
   "metadata": {},
   "outputs": [],
   "source": []
  },
  {
   "cell_type": "code",
   "execution_count": null,
   "id": "6eed67c6",
   "metadata": {},
   "outputs": [],
   "source": []
  },
  {
   "cell_type": "code",
   "execution_count": null,
   "id": "426d8cc3",
   "metadata": {},
   "outputs": [],
   "source": []
  },
  {
   "cell_type": "code",
   "execution_count": null,
   "id": "0cb1d88d",
   "metadata": {
    "scrolled": true
   },
   "outputs": [],
   "source": []
  },
  {
   "cell_type": "code",
   "execution_count": null,
   "id": "bae63a40",
   "metadata": {},
   "outputs": [],
   "source": []
  },
  {
   "cell_type": "code",
   "execution_count": null,
   "id": "dbbc6ad8",
   "metadata": {},
   "outputs": [],
   "source": []
  },
  {
   "cell_type": "code",
   "execution_count": null,
   "id": "8769c292",
   "metadata": {},
   "outputs": [],
   "source": []
  },
  {
   "cell_type": "code",
   "execution_count": null,
   "id": "2fe91a6d",
   "metadata": {},
   "outputs": [],
   "source": []
  },
  {
   "cell_type": "code",
   "execution_count": 57,
   "id": "20614ad1",
   "metadata": {},
   "outputs": [],
   "source": []
  },
  {
   "cell_type": "code",
   "execution_count": null,
   "id": "d3ebfe62",
   "metadata": {},
   "outputs": [],
   "source": []
  },
  {
   "cell_type": "code",
   "execution_count": null,
   "id": "0e461564",
   "metadata": {},
   "outputs": [],
   "source": []
  },
  {
   "cell_type": "code",
   "execution_count": null,
   "id": "d9d45137",
   "metadata": {},
   "outputs": [],
   "source": []
  },
  {
   "cell_type": "code",
   "execution_count": null,
   "id": "4c13d3ef",
   "metadata": {},
   "outputs": [],
   "source": []
  },
  {
   "cell_type": "code",
   "execution_count": null,
   "id": "094a6181",
   "metadata": {},
   "outputs": [],
   "source": []
  },
  {
   "cell_type": "code",
   "execution_count": null,
   "id": "e004bccd",
   "metadata": {},
   "outputs": [],
   "source": []
  },
  {
   "cell_type": "code",
   "execution_count": null,
   "id": "824a3d79",
   "metadata": {},
   "outputs": [],
   "source": []
  },
  {
   "cell_type": "code",
   "execution_count": null,
   "id": "4c8128f4",
   "metadata": {},
   "outputs": [],
   "source": []
  },
  {
   "cell_type": "code",
   "execution_count": null,
   "id": "3cfb95c7",
   "metadata": {},
   "outputs": [],
   "source": []
  },
  {
   "cell_type": "code",
   "execution_count": null,
   "id": "eac8201c",
   "metadata": {},
   "outputs": [],
   "source": []
  },
  {
   "cell_type": "code",
   "execution_count": null,
   "id": "b9a59745",
   "metadata": {},
   "outputs": [],
   "source": []
  },
  {
   "cell_type": "code",
   "execution_count": null,
   "id": "d027180e",
   "metadata": {},
   "outputs": [],
   "source": []
  },
  {
   "cell_type": "code",
   "execution_count": null,
   "id": "754c6073",
   "metadata": {},
   "outputs": [],
   "source": []
  },
  {
   "cell_type": "code",
   "execution_count": null,
   "id": "1588fcf1",
   "metadata": {},
   "outputs": [],
   "source": []
  },
  {
   "cell_type": "code",
   "execution_count": null,
   "id": "5c778500",
   "metadata": {},
   "outputs": [],
   "source": []
  },
  {
   "cell_type": "code",
   "execution_count": null,
   "id": "d42ba042",
   "metadata": {},
   "outputs": [],
   "source": []
  },
  {
   "cell_type": "code",
   "execution_count": null,
   "id": "049baad2",
   "metadata": {},
   "outputs": [],
   "source": []
  },
  {
   "cell_type": "code",
   "execution_count": null,
   "id": "91d96bea",
   "metadata": {},
   "outputs": [],
   "source": []
  }
 ],
 "metadata": {
  "kernelspec": {
   "display_name": "Python 3 (ipykernel)",
   "language": "python",
   "name": "python3"
  },
  "language_info": {
   "codemirror_mode": {
    "name": "ipython",
    "version": 3
   },
   "file_extension": ".py",
   "mimetype": "text/x-python",
   "name": "python",
   "nbconvert_exporter": "python",
   "pygments_lexer": "ipython3",
   "version": "3.11.4"
  }
 },
 "nbformat": 4,
 "nbformat_minor": 5
}
